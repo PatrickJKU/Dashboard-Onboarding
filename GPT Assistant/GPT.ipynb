{
 "cells": [
  {
   "cell_type": "code",
   "execution_count": 1,
   "metadata": {},
   "outputs": [
    {
     "name": "stderr",
     "output_type": "stream",
     "text": [
      "C:\\Users\\pmair\\AppData\\Local\\Temp\\ipykernel_5192\\1723992314.py:6: DeprecationWarning: \n",
      "Pyarrow will become a required dependency of pandas in the next major release of pandas (pandas 3.0),\n",
      "(to allow more performant data types, such as the Arrow string type, and better interoperability with other libraries)\n",
      "but was not found to be installed on your system.\n",
      "If this would cause problems for you,\n",
      "please provide us feedback at https://github.com/pandas-dev/pandas/issues/54466\n",
      "        \n",
      "  import pandas as pd\n"
     ]
    }
   ],
   "source": [
    "from openai import OpenAI\n",
    "import shelve\n",
    "from dotenv import load_dotenv\n",
    "import os\n",
    "import time\n",
    "import pandas as pd\n",
    "import json"
   ]
  },
  {
   "cell_type": "code",
   "execution_count": 2,
   "metadata": {},
   "outputs": [],
   "source": [
    "load_dotenv()\n",
    "OPEN_AI_API_KEY = os.getenv(\"OPEN_AI_API_KEY\")\n",
    "client = OpenAI(api_key=OPEN_AI_API_KEY)"
   ]
  },
  {
   "cell_type": "code",
   "execution_count": 3,
   "metadata": {},
   "outputs": [],
   "source": [
    "# this code might need optimization - very simple solution but works for now\n",
    "\n",
    "# initialize thread dict\n",
    "thread_dict = {\n",
    "    \"prompt\": [],\n",
    "    \"answer\": [],\n",
    "    \"user_id\": [],\n",
    "    \"thread_id\": [],\n",
    "    \"msg_id\": [],\n",
    "    \"assistant_id\": []  \n",
    "}\n",
    "\n",
    "# check if already threads exist\n",
    "if os.path.exists(\"GPT_Threads\\\\threads.json\"):\n",
    "    # load exisiting thread\n",
    "    with open('GPT_Threads\\\\threads.json') as json_file:\n",
    "        data = json.load(json_file)  # this is a list of dictionaries\n",
    "        for elem in data: \n",
    "            thread_dict[\"thread_id\"].append(elem[\"thread_id\"])\n",
    "            thread_dict[\"msg_id\"].append(elem[\"msg_id\"])\n",
    "            thread_dict[\"assistant_id\"].append(elem[\"assistant_id\"])\n",
    "            thread_dict[\"prompt\"].append(elem[\"prompt\"])\n",
    "            thread_dict[\"answer\"].append(elem[\"answer\"])\n",
    "            thread_dict[\"user_id\"].append(elem[\"user_id\"])\n"
   ]
  },
  {
   "cell_type": "code",
   "execution_count": 12,
   "metadata": {},
   "outputs": [],
   "source": [
    "def upload_file(path):\n",
    "    file_ids = []\n",
    "    # Upload a file with an \"assistants\" purpose\n",
    "    #file = client.files.create(file=open(path, \"rb\"), purpose=\"assistants\")\n",
    "    for file_name in path:\n",
    "        with open(file_name, \"rb\") as file_data:\n",
    "            file_response = client.files.create(file=file_data, purpose='assistants')\n",
    "            file_ids.append(file_response.id) \n",
    "    return file_ids\n",
    "\n",
    "def create_assistant(file_ids):\n",
    "    assistant = client.beta.assistants.create(\n",
    "        name=\"Dashboard Onboarding ChatBot\",\n",
    "        instructions=\"I want you to be an assistant during a dashboard onboarding process. You should guide users of different expertise level step by step through a comprehensive journey of getting to know a PowerBI dashboard. The elements and layout of the dashboard are explained in the provided JSON file. I also provided you with previous user interactions in the form of csv files, which you should use to guide users to insightful states of the dashboard. Start the onboarding by asking the experience level of the new user and then give exercises based on this information. Beginner users should at least solve 5 exercises, showing them how to leverage PowerBI for data analysis, but also introduce them to the given dashboard. Only prompt one step at a time to the user, do not overwhelm him with too much information at once. Only give exercise you have knowledge about, hence you should be able to identify if the users answer is incorrect. Make sure to leverage the uploaded files\",\n",
    "        tools=[{\"type\": \"retrieval\"}, {\"type\": \"code_interpreter\"}],\n",
    "        model=\"gpt-4-0125-preview\",\n",
    "        file_ids=file_ids,\n",
    "    )\n",
    "    return assistant"
   ]
  },
  {
   "cell_type": "code",
   "execution_count": 13,
   "metadata": {},
   "outputs": [],
   "source": [
    "# Create an assistant with external knowledge\n",
    "# only run once - check on website if assitant was created\n",
    "\n",
    "# Upload file\n",
    "files = upload_file([\"Dashboard Files\\encoding_initial_simplyfied.json\", \"Dashboard Files\\merged_file.csv\"])\n",
    "# Create assistant\n",
    "assistant = create_assistant(files)"
   ]
  },
  {
   "cell_type": "code",
   "execution_count": 14,
   "metadata": {},
   "outputs": [
    {
     "data": {
      "text/plain": [
       "'asst_KfZYtD7IwosiNbA8DBwTJ8Pp'"
      ]
     },
     "execution_count": 14,
     "metadata": {},
     "output_type": "execute_result"
    }
   ],
   "source": [
    "assistant.id"
   ]
  },
  {
   "cell_type": "code",
   "execution_count": 5,
   "metadata": {},
   "outputs": [],
   "source": [
    "# Thread management\n",
    "def check_if_thread_exists(user_id):\n",
    "    with shelve.open(\"threads_db\") as threads_shelf:\n",
    "        return threads_shelf.get(user_id, None)\n",
    "\n",
    "def store_thread(user_id, thread_id):\n",
    "    with shelve.open(\"threads_db\", writeback=True) as threads_shelf:\n",
    "        threads_shelf[user_id] = thread_id\n",
    "\n",
    "def save_thread(user_id, data_user, data_assistant):\n",
    "    # saving threads in json file for better visualization of conversations\n",
    "    thread_dict[\"thread_id\"].append(data_assistant.thread_id)\n",
    "    thread_dict[\"msg_id\"].append(data_assistant.id)\n",
    "    thread_dict[\"assistant_id\"].append(data_assistant.assistant_id)\n",
    "    thread_dict[\"prompt\"].append(data_user.content[0].text.value)\n",
    "    thread_dict[\"answer\"].append(data_assistant.content[0].text.value)\n",
    "    thread_dict[\"user_id\"].append(user_id)\n",
    "\n",
    "    df = pd.DataFrame(thread_dict)  # probably also a more neat solution without this step available\n",
    "    df.to_json(\"GPT_Threads\\\\threads.json\", orient=\"records\", indent=2)\n",
    "\n",
    "# Generate response\n",
    "def generate_response(message_body, user_id, name):\n",
    "    # Check if there is already a thread_id for the user_id\n",
    "    thread_id = check_if_thread_exists(user_id)\n",
    "\n",
    "    # If a thread doesn't exist, create one and store it\n",
    "    if thread_id is None:\n",
    "        print(f\"Creating new thread for {name} with user_id {user_id}\")\n",
    "        thread = client.beta.threads.create()\n",
    "        store_thread(user_id, thread.id)\n",
    "        thread_id = thread.id\n",
    "\n",
    "    # Otherwise, retrieve the existing thread\n",
    "    else:\n",
    "        print(f\"Retrieving existing thread for {name} with user_id {user_id}\")\n",
    "        thread = client.beta.threads.retrieve(thread_id)\n",
    "\n",
    "    # Add message to thread\n",
    "    message = client.beta.threads.messages.create(\n",
    "        thread_id=thread_id,\n",
    "        role=\"user\",\n",
    "        content=message_body,\n",
    "    )\n",
    "\n",
    "    # Run the assistant and get the new message\n",
    "    new_message = run_assistant(user_id, thread)\n",
    "    print(f\"To {name}:\", new_message)\n",
    "    return new_message\n",
    "\n",
    "# Run assistant\n",
    "def run_assistant(user_id, thread):\n",
    "    # Retrieve the created assistant or paste the id of any other available assistant instead of \"assistant.id\"\n",
    "\n",
    "    # Onboarding bot: asst_CzAZx0pbuCdy57fd18DFWZEB\n",
    "    # Dashboard Onboarding Assistant: asst_irK6D1q8nwG8JTHN21ykPURB\n",
    "\n",
    "    assistant = client.beta.assistants.retrieve(assistant.id)\n",
    "\n",
    "    # Run the assistant\n",
    "    run = client.beta.threads.runs.create(\n",
    "        thread_id=thread.id,\n",
    "        assistant_id=assistant.id,\n",
    "    )\n",
    "\n",
    "    # Wait for completion\n",
    "    while run.status != \"completed\":\n",
    "        time.sleep(0.5)\n",
    "        run = client.beta.threads.runs.retrieve(thread_id=thread.id, run_id=run.id)\n",
    "\n",
    "    # Retrieve the Messages\n",
    "    messages = client.beta.threads.messages.list(thread_id=thread.id)\n",
    "    new_message = messages.data[0].content[0].text.value\n",
    "\n",
    "    data_assistant = client.beta.threads.messages.list(thread_id=thread.id).data[0]\n",
    "    data_user = client.beta.threads.messages.list(thread_id=thread.id).data[1]\n",
    "\n",
    "    save_thread(user_id, data_user, data_assistant)\n",
    "    return new_message"
   ]
  },
  {
   "cell_type": "code",
   "execution_count": 19,
   "metadata": {},
   "outputs": [
    {
     "name": "stdout",
     "output_type": "stream",
     "text": [
      "Creating new thread for Beginner with user_id 2\n",
      "To Beginner: Welcome to the dashboard onboarding process! To best cater to your specific needs, could you please share your experience level with PowerBI? You can choose among the following:\n",
      "\n",
      "1. Beginner - You are new to PowerBI and might need guidance on basic functionalities and operations.\n",
      "2. Intermediate - You have some experience with PowerBI, familiar with most functionalities but might need help with complex features.\n",
      "3. Advanced - You are very comfortable with PowerBI, looking for expert tips or advanced functionalities.\n",
      "\n",
      "Please select your experience level (1, 2, or 3):\n"
     ]
    }
   ],
   "source": [
    "# Test assistant\n",
    "user_name = \"Beginner\"\n",
    "user_id = \"2\"\n",
    "new_message = generate_response(\"Start Dashboard onboarding\", user_id, user_name)"
   ]
  },
  {
   "cell_type": "code",
   "execution_count": 20,
   "metadata": {},
   "outputs": [
    {
     "name": "stdout",
     "output_type": "stream",
     "text": [
      "Retrieving existing thread for Beginner with user_id 2\n",
      "To Beginner: Great, as a beginner to PowerBI, we'll start with some basic concepts and functionalities to get you acquainted with the dashboard. \n",
      "\n",
      "Firstly, PowerBI is a business analytics service by Microsoft. It provides interactive visualizations and business intelligence capabilities with an interface simple enough for end users to create their own reports and dashboards.\n",
      "\n",
      "Given that you're just starting, here's your first exercise:\n",
      "\n",
      "**Exercise 1: Open a PowerBI Dashboard**\n",
      "1. When you open PowerBI, you'll typically start at the Home view.\n",
      "2. Look for the “Get Data” option on the bottom left corner of the screen to open an existing report or dashboard. For the purpose of this exercise, we'll pretend you're opening the dashboard provided in the JSON file I've received.\n",
      "3. Once the dashboard is opened, familiarize yourself with the layout. Notice how visualizations are arranged on the canvas. Each chart, graph, or table you see is considered a \"visualization\".\n",
      "\n",
      "Could you tell me what type of visualizations you think you might find on a PowerBI dashboard? This will help me guide you to the next appropriate steps.\n"
     ]
    }
   ],
   "source": [
    "new_message = generate_response(\"1\", user_id, user_name)"
   ]
  },
  {
   "cell_type": "code",
   "execution_count": 21,
   "metadata": {},
   "outputs": [
    {
     "name": "stdout",
     "output_type": "stream",
     "text": [
      "Retrieving existing thread for Beginner with user_id 2\n",
      "To Beginner: Based on the information in the JSON file, the components of the dashboard include:\n",
      "\n",
      "1. **Two Card Visuals** for summarizing current values of New Hires and New Hires SPLY (Same Period Last Year), aligning well with the summaries you mentioned.\n",
      "2. **Two Filters** for Region and Ethnicity, allowing for more granular examination of the data based on these specific attributes.\n",
      "3. **A Line Chart** titled \"New Hires by Month and FPDesc\" that shows trends across different months and Full Time vs Part Time hires, matching your description of a line chart comparing Full Time vs Part Time.\n",
      "4. **A Clustered Bar Chart** described as a \"line clustered column combo chart\" without a clear title provided in your summary but includes the insights for \"New Hires by Region and Ethnicity\". This could contribute to the comparison aspect you've noted.\n",
      "5. Also mentioned is a **Line Clustered Column Combo Chart** for comparing \"New Hires and New Hires Same Period Last Year\", which likely maps to your observation about comparing two years.\n",
      "\n",
      "It seems you've captured the essence of the dashboard's visual elements appropriately. Based on this description, there's a pivot around new hire monitoring, incorporating temporal (month, year), categorical (Full Time vs Part Time, region, ethnicity), and numerical data (count of hires).\n",
      "\n",
      "For your next exercise, focusing on leveraging these elements for interactive data exploration is key:\n",
      "\n",
      "**Exercise 2: Explore the Filters**\n",
      "1. Attempt to interact with the two filters mentioned: Region and Ethnicity.\n",
      "2. Try selecting one of the regions from the \"Region\" filter and note how the dashboard's visuals change in response. Understanding how filters affect the data presented can be very enlightening.\n",
      "3. Repeat the process with the \"Ethnicity\" filter.\n",
      "\n",
      "Let's start with step 2: Could you tell me what you expect to happen when you apply a filter on Region, specifically how it might affect the visuals like the \"New Hires by Month and FPDesc\" line chart or the summaries?\n"
     ]
    }
   ],
   "source": [
    "new_message = generate_response(\"I see two summaries of new hire numbers, a comparison chart of two years. A line chart showing Full Time vs Part Time hires and 2 filter options. Did i miss something?\", user_id, user_name)"
   ]
  },
  {
   "cell_type": "code",
   "execution_count": 22,
   "metadata": {},
   "outputs": [
    {
     "name": "stdout",
     "output_type": "stream",
     "text": [
      "Retrieving existing thread for Beginner with user_id 2\n",
      "To Beginner: Exactly! Applying a filter for a specific region would indeed narrow down the data to new hires from that region, potentially reducing the total number of new hires reflected in the summaries and other visualizations like the \"New Hires by Month and FPDesc\" line chart. In addition, filtering by region might reveal new trends or insights specific to that region, such as whether certain months had unusually high or low hiring rates or if there's a significant difference in the Full-Time vs Part-Time hiring trends within that region.\n",
      "\n",
      "By filtering, you're able to interactively analyze and understand the data from different perspectives, which is a powerful aspect of PowerBI dashboards. It allows users to drill down into specific areas of interest, uncovering insights that could be crucial for decision-making.\n",
      "\n",
      "For your next beginner exercise, let's focus on another fundamental functionality:\n",
      "\n",
      "**Exercise 3: Investigate Visualization Interactions**\n",
      "1. Click on an element within a visualization, such as a bar within the \"New Hires by Region and Ethnicity\" bar chart.\n",
      "2. Observe how this interaction affects the other visualizations on the dashboard. This is known as \"cross-filtering\".\n",
      "3. Consider what insights or questions arise from seeing how selecting a specific data point influences the rest of the dashboard's data display.\n",
      "\n",
      "This exercise allows you to explore how interconnected the data and visualizations are within a PowerBI dashboard.\n",
      "\n",
      "Before you click and investigate, what do you expect to happen when you select a specific data point (e.g., a bar representing a particular region in a bar chart)? How do you think this will affect other visualizations on the dashboard?\n"
     ]
    }
   ],
   "source": [
    "new_message = generate_response(\"I would expect the total number of new hires to go down, since we are narrowing the data. Also maybe new trends emerge if we set filters to specific regions\", user_id, user_name)"
   ]
  },
  {
   "cell_type": "code",
   "execution_count": 23,
   "metadata": {},
   "outputs": [
    {
     "name": "stdout",
     "output_type": "stream",
     "text": [
      "Retrieving existing thread for Beginner with user_id 2\n",
      "To Beginner: That's correct! Selecting a specific data point, such as a bar representing a particular region, essentially acts as an on-the-fly filter for that particular attribute. This type of interaction, known as \"cross-filtering\", allows the dashboard to dynamically update other visualizations based on the selection. \n",
      "\n",
      "Here's what typically happens when you perform such an action in a PowerBI dashboard:\n",
      "\n",
      "- **Direct Filtering**: The selection directly filters the data across the dashboard to only display data relevant to the selected region. This means all metrics, charts, and tables that can be influenced by this selection will now only reflect the data for the chosen region.\n",
      "- **Consistency Across Visualizations**: Other visualizations on the dashboard that are related to the selected attribute (in this case, region) will automatically adjust to reflect this narrower scope of data.\n",
      "- **Highlight vs. Filter**: In some cases, instead of filtering, PowerBI might highlight the selected data across other visualizations while still showing the context of unselected data in a more subdued manner. This action provides a clear visual emphasis on how the selected data stands in relation to the whole dataset.\n",
      "- **Insight Discovery**: Through this process, you might discover new insights. For example, the trend of hiring (e.g., more Full-Time or Part-Time hires) in the selected region might stand out or vary significantly from the overall data.\n",
      "\n",
      "Now that you have a good understanding of basic interactions within a PowerBI dashboard, you can experiment further with different elements and explore how they interconnect to provide comprehensive insights. Remember, the power of PowerBI lies in its ability to enable users to interact with the data visually and dynamically, making complex data analysis more accessible.\n",
      "\n",
      "Is there anything specific about PowerBI dashboards you would like to learn more about or any particular functionality you have questions on?\n"
     ]
    }
   ],
   "source": [
    "new_message = generate_response(\"Selecting a specific region bar will apply the same filter as if I filtered by this region using the slicer I suppose\", user_id, user_name)"
   ]
  },
  {
   "cell_type": "code",
   "execution_count": 24,
   "metadata": {},
   "outputs": [
    {
     "name": "stdout",
     "output_type": "stream",
     "text": [
      "Retrieving existing thread for Beginner with user_id 2\n",
      "To Beginner: In exploring this specific PowerBI dashboard centered around new hires data, focusing on insights that drive strategic decisions or offer actionable intelligence is crucial. Here are several insights you might want to look for and how to potentially uncover them using the dashboard's functionalities:\n",
      "\n",
      "1. **Trends Over Time**:\n",
      "   - **Exercise**: Use the \"New Hires by Month and FPDesc\" line chart to observe how new hires (both Full Time and Part Time) have varied over different months.\n",
      "   - **Insight**: Identifying patterns or trends, such as specific times of the year when hiring spikes or drops, can help in planning future recruitment efforts more effectively.\n",
      "\n",
      "2. **Comparison Across Regions**:\n",
      "   - **Exercise**: Utilize the \"New Hires by Region and Ethnicity\" bar chart along with the Region filter to compare hiring numbers across different regions.\n",
      "   - **Insight**: Understanding which regions have higher or lower hiring rates may reveal the effectiveness of regional strategies or indicate areas for potential expansion or reevaluation.\n",
      "\n",
      "3. **Diversity in Hiring**:\n",
      "   - **Exercise**: Apply the Ethnicity filter and examine the visualizations to assess how diverse the new hires are in terms of ethnicity.\n",
      "   - **Insight**: This can highlight the company's performance towards diversity goals and may point out areas where diversity initiatives could be strengthened.\n",
      "\n",
      "4. **Effectiveness of Part-Time vs Full-Time Hiring**:\n",
      "   - **Exercise**: Investigate the line chart comparing Full Time vs Part Time hires over time and across regions.\n",
      "   - **Insight**: Analyzing the balance between Full-Time and Part-Time hires can offer insights into workforce flexibility, cost efficiency, and whether the current strategy aligns with operational needs.\n",
      "\n",
      "5. **Year-on-Year Growth or Decline**:\n",
      "   - **Exercise**: Explore the summaries and clustered bar chart for insights on \"New Hires and New Hires Same Period Last Year\" across different categories.\n",
      "   - **Insight**: Identifying areas of growth or decline year-on-year can help in understanding the effectiveness of hiring practices and strategizing for sustainable growth.\n",
      "\n",
      "**Questions to Ask**:\n",
      "- Are there any observable cyclical trends in hiring that the company can prepare for?\n",
      "- How does the distribution of new hires (in terms of region, full/part-time, ethnicity) align with the company's strategic goals?\n",
      "- Are specific regions or demographic groups underrepresented in the hiring process?\n",
      "- How has the company's hiring strategy changed over time, and what impact does this seem to have?\n",
      "\n",
      "To pursue these insights effectively, interact with the charts and filters to view data from different angles, look for trends, anomalies, or patterns, and consider how they relate to broader strategic goals or operational needs.\n",
      "\n",
      "If there are specific aspects of the dashboard or types of analysis you're particularly interested in exploring further, please let me know!\n"
     ]
    }
   ],
   "source": [
    "new_message = generate_response(\"Which insights should I search for in this particular dashboard?\", user_id, user_name)"
   ]
  }
 ],
 "metadata": {
  "kernelspec": {
   "display_name": "PR",
   "language": "python",
   "name": "python3"
  },
  "language_info": {
   "codemirror_mode": {
    "name": "ipython",
    "version": 3
   },
   "file_extension": ".py",
   "mimetype": "text/x-python",
   "name": "python",
   "nbconvert_exporter": "python",
   "pygments_lexer": "ipython3",
   "version": "3.9.7"
  }
 },
 "nbformat": 4,
 "nbformat_minor": 2
}
